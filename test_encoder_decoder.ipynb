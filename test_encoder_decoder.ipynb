{
 "cells": [
  {
   "cell_type": "code",
   "execution_count": 2,
   "metadata": {},
   "outputs": [],
   "source": [
    "from SPEN.pose import get_pos_encoder, get_pos_decoder\n",
    "from SPEN.pose import get_ori_encoder, get_ori_decoder\n",
    "import numpy as np\n",
    "import torch\n",
    "from torch import nn\n",
    "import json\n",
    "from pathlib import Path"
   ]
  },
  {
   "cell_type": "code",
   "execution_count": 5,
   "metadata": {},
   "outputs": [
    {
     "data": {
      "text/plain": [
       "{'ori': [-0.419541, -0.484436, -0.214179, 0.73718],\n",
       " 'pos': [-0.21081, -0.094466, 6.705986],\n",
       " 'bbox': [539, 222, 1036, 700]}"
      ]
     },
     "execution_count": 5,
     "metadata": {},
     "output_type": "execute_result"
    }
   ],
   "source": [
    "label_path = Path(\"../datasets/speed/train.json\")\n",
    "with open(label_path, \"r\") as f:\n",
    "    labels = json.load(f)\n",
    "labels[\"img000001.jpg\"]"
   ]
  },
  {
   "cell_type": "code",
   "execution_count": 40,
   "metadata": {},
   "outputs": [],
   "source": [
    "# 定义检测函数\n",
    "def check_encoder_decoder(label, key, encoder, decoder):\n",
    "    pos = np.array(label[key])\n",
    "    pos_encoded_dict = encoder.encode(pos)\n",
    "    pos_encoded_dict_tensot = {k: torch.tensor(v).unsqueeze(0) for k, v in pos_encoded_dict.items()}\n",
    "    pos_decoded_tensor = decoder.decode_batch(pos_encoded_dict_tensot)\n",
    "    pos_decoded = pos_decoded_tensor.squeeze(0).numpy()\n",
    "    if pos[0] * pos_decoded[0] < 0:\n",
    "        pos_decoded = -pos_decoded\n",
    "    return np.allclose(pos, pos_decoded, atol=1e-6)"
   ]
  },
  {
   "cell_type": "code",
   "execution_count": 41,
   "metadata": {},
   "outputs": [],
   "source": [
    "# 定义循环检测函数\n",
    "def check_loop(labels, key, encoder, decoder):\n",
    "    for image_name, label in labels.items():\n",
    "        right = check_encoder_decoder(label, key, encoder, decoder)\n",
    "        if not right:\n",
    "            print(f\"Error in {image_name}\")"
   ]
  },
  {
   "cell_type": "markdown",
   "metadata": {},
   "source": [
    "# 位置编码"
   ]
  },
  {
   "cell_type": "markdown",
   "metadata": {},
   "source": [
    "## 笛卡尔坐标系位置编码"
   ]
  },
  {
   "cell_type": "code",
   "execution_count": 33,
   "metadata": {},
   "outputs": [
    {
     "name": "stdout",
     "output_type": "stream",
     "text": [
      "True\n"
     ]
    }
   ],
   "source": [
    "cart_encoder = get_pos_encoder(\"Cart\")\n",
    "cart_decoder = get_pos_decoder(\"Cart\")\n",
    "print(check_encoder_decoder(labels[\"img000001.jpg\"], \"pos\", cart_encoder, cart_decoder))\n",
    "check_loop(labels, \"pos\", cart_encoder, cart_decoder)"
   ]
  },
  {
   "cell_type": "markdown",
   "metadata": {},
   "source": [
    "## 球坐标系位置编码"
   ]
  },
  {
   "cell_type": "code",
   "execution_count": 34,
   "metadata": {},
   "outputs": [
    {
     "name": "stdout",
     "output_type": "stream",
     "text": [
      "True\n"
     ]
    }
   ],
   "source": [
    "spher_encoder = get_pos_encoder(\"Spher\", r_max=50)\n",
    "spher_decoder = get_pos_decoder(\"Spher\", r_max=50)\n",
    "print(check_encoder_decoder(labels[\"img000001.jpg\"], \"pos\", spher_encoder, spher_decoder))\n",
    "check_loop(labels, \"pos\", spher_encoder, spher_decoder)"
   ]
  },
  {
   "cell_type": "markdown",
   "metadata": {},
   "source": [
    "## 离散球坐标系位置编码"
   ]
  },
  {
   "cell_type": "code",
   "execution_count": 36,
   "metadata": {},
   "outputs": [
    {
     "name": "stdout",
     "output_type": "stream",
     "text": [
      "True\n"
     ]
    }
   ],
   "source": [
    "discrete_spher_encoder = get_pos_encoder(\"DiscreteSpher\", angle_stride=1, r_stride=1, r_max=50, alpha=0.1, neighbor=5)\n",
    "discrete_spher_decoder = get_pos_decoder(\"DiscreteSpher\", angle_stride=1, r_stride=1, r_max=50, alpha=0.1, neighbor=5)\n",
    "print(check_encoder_decoder(labels[\"img000150.jpg\"], \"pos\", discrete_spher_encoder, discrete_spher_decoder))\n",
    "check_loop(labels, \"pos\", discrete_spher_encoder, discrete_spher_decoder)"
   ]
  },
  {
   "cell_type": "markdown",
   "metadata": {},
   "source": [
    "# 角度编码"
   ]
  },
  {
   "cell_type": "markdown",
   "metadata": {},
   "source": [
    "## 四元数角度编码"
   ]
  },
  {
   "cell_type": "code",
   "execution_count": 37,
   "metadata": {},
   "outputs": [
    {
     "name": "stdout",
     "output_type": "stream",
     "text": [
      "True\n"
     ]
    }
   ],
   "source": [
    "quat_encoder = get_ori_encoder(\"Quat\")\n",
    "quat_decoder = get_ori_decoder(\"Quat\")\n",
    "print(check_encoder_decoder(labels[\"img000001.jpg\"], \"ori\", quat_encoder, quat_decoder))\n",
    "check_loop(labels, \"ori\", quat_encoder, quat_decoder)"
   ]
  },
  {
   "cell_type": "markdown",
   "metadata": {},
   "source": [
    "## 欧拉角角度编码"
   ]
  },
  {
   "cell_type": "code",
   "execution_count": 42,
   "metadata": {},
   "outputs": [
    {
     "name": "stdout",
     "output_type": "stream",
     "text": [
      "True\n"
     ]
    }
   ],
   "source": [
    "euler_encoder = get_ori_encoder(\"Euler\")\n",
    "euler_decoder = get_ori_decoder(\"Euler\")\n",
    "print(check_encoder_decoder(labels[\"img000001.jpg\"], \"ori\", euler_encoder, euler_decoder))\n",
    "check_loop(labels, \"ori\", euler_encoder, euler_decoder)"
   ]
  },
  {
   "cell_type": "markdown",
   "metadata": {},
   "source": [
    "## 离散欧拉角角度编码"
   ]
  },
  {
   "cell_type": "code",
   "execution_count": 43,
   "metadata": {},
   "outputs": [
    {
     "name": "stdout",
     "output_type": "stream",
     "text": [
      "True\n"
     ]
    }
   ],
   "source": [
    "discrete_euler_encoder = get_ori_encoder(\"DiscreteEuler\", stride=1, alpha=0.1, neighbor=5)\n",
    "discrete_euler_decoder = get_ori_decoder(\"DiscreteEuler\", stride=1, alpha=0.1, neighbor=5)\n",
    "print(check_encoder_decoder(labels[\"img000001.jpg\"], \"ori\", discrete_euler_encoder, discrete_euler_decoder))\n",
    "check_loop(labels, \"ori\", discrete_euler_encoder, discrete_euler_decoder)"
   ]
  }
 ],
 "metadata": {
  "kernelspec": {
   "display_name": "Python 3",
   "language": "python",
   "name": "python3"
  },
  "language_info": {
   "codemirror_mode": {
    "name": "ipython",
    "version": 3
   },
   "file_extension": ".py",
   "mimetype": "text/x-python",
   "name": "python",
   "nbconvert_exporter": "python",
   "pygments_lexer": "ipython3",
   "version": "3.11.9"
  }
 },
 "nbformat": 4,
 "nbformat_minor": 2
}
